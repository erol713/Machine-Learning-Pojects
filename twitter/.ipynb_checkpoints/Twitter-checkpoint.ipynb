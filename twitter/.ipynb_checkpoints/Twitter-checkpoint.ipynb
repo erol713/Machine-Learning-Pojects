{
 "cells": [
  {
   "cell_type": "code",
   "execution_count": 4,
   "metadata": {},
   "outputs": [],
   "source": [
    "import numpy as np\n",
    "import pandas as pd\n",
    "import matplotlib.pyplot as plt\n",
    "import seaborn as sns\n",
    "import string\n",
    "%matplotlib inline"
   ]
  },
  {
   "cell_type": "code",
   "execution_count": 33,
   "metadata": {},
   "outputs": [],
   "source": [
    "df =pd.read_csv('ThorRangarokTwitterData.csv', engine='python')"
   ]
  },
  {
   "cell_type": "code",
   "execution_count": 149,
   "metadata": {},
   "outputs": [
    {
     "data": {
      "text/html": [
       "<div>\n",
       "<style scoped>\n",
       "    .dataframe tbody tr th:only-of-type {\n",
       "        vertical-align: middle;\n",
       "    }\n",
       "\n",
       "    .dataframe tbody tr th {\n",
       "        vertical-align: top;\n",
       "    }\n",
       "\n",
       "    .dataframe thead th {\n",
       "        text-align: right;\n",
       "    }\n",
       "</style>\n",
       "<table border=\"1\" class=\"dataframe\">\n",
       "  <thead>\n",
       "    <tr style=\"text-align: right;\">\n",
       "      <th></th>\n",
       "      <th>Created_At</th>\n",
       "      <th>Followers_Count</th>\n",
       "      <th>Friends_Count</th>\n",
       "      <th>Location</th>\n",
       "      <th>Retweet_Count</th>\n",
       "      <th>Screen_Name</th>\n",
       "      <th>Source</th>\n",
       "      <th>Truncated</th>\n",
       "      <th>Tweet</th>\n",
       "      <th>TweetId</th>\n",
       "      <th>UserId</th>\n",
       "    </tr>\n",
       "  </thead>\n",
       "  <tbody>\n",
       "    <tr>\n",
       "      <th>0</th>\n",
       "      <td>2018-01-25 16:41:07</td>\n",
       "      <td>802.0</td>\n",
       "      <td>265.0</td>\n",
       "      <td>genderless. pan-R/S</td>\n",
       "      <td>2710.0</td>\n",
       "      <td>wislwor6651</td>\n",
       "      <td>Twitter Web Client</td>\n",
       "      <td>0.0</td>\n",
       "      <td>RT @HiddlesPage: It's a family thing! ??\\n#Tho...</td>\n",
       "      <td>9.565676e+17</td>\n",
       "      <td>2.911662e+09</td>\n",
       "    </tr>\n",
       "    <tr>\n",
       "      <th>1</th>\n",
       "      <td>2018-01-25 16:41:05</td>\n",
       "      <td>6365.0</td>\n",
       "      <td>3408.0</td>\n",
       "      <td>On a rainbow. SHARED ACCOUNT</td>\n",
       "      <td>7.0</td>\n",
       "      <td>ItalianLokiArmy</td>\n",
       "      <td>Twitter for Android</td>\n",
       "      <td>0.0</td>\n",
       "      <td>RT @HiddlesFanPage_: Happy #Thorsday! #ChrisHe...</td>\n",
       "      <td>9.565676e+17</td>\n",
       "      <td>5.872514e+08</td>\n",
       "    </tr>\n",
       "    <tr>\n",
       "      <th>2</th>\n",
       "      <td>2018-01-25 16:40:58</td>\n",
       "      <td>144.0</td>\n",
       "      <td>227.0</td>\n",
       "      <td>Pennsylvania, USA</td>\n",
       "      <td>2710.0</td>\n",
       "      <td>pokerqueen33</td>\n",
       "      <td>Twitter for Android</td>\n",
       "      <td>0.0</td>\n",
       "      <td>RT @HiddlesPage: It's a family thing! ??\\n#Tho...</td>\n",
       "      <td>9.565676e+17</td>\n",
       "      <td>5.842114e+08</td>\n",
       "    </tr>\n",
       "    <tr>\n",
       "      <th>3</th>\n",
       "      <td>2018-01-25 16:40:56</td>\n",
       "      <td>123.0</td>\n",
       "      <td>175.0</td>\n",
       "      <td>????012??/Anima</td>\n",
       "      <td>2710.0</td>\n",
       "      <td>shirahadegozai</td>\n",
       "      <td>Twitter for iPhone</td>\n",
       "      <td>0.0</td>\n",
       "      <td>RT @HiddlesPage: It's a family thing! ??\\n#Tho...</td>\n",
       "      <td>9.565676e+17</td>\n",
       "      <td>1.285254e+08</td>\n",
       "    </tr>\n",
       "    <tr>\n",
       "      <th>4</th>\n",
       "      <td>2018-01-25 16:40:49</td>\n",
       "      <td>117.0</td>\n",
       "      <td>136.0</td>\n",
       "      <td>NaN</td>\n",
       "      <td>2710.0</td>\n",
       "      <td>hong88_Ag</td>\n",
       "      <td>Twitter Web Client</td>\n",
       "      <td>0.0</td>\n",
       "      <td>RT @HiddlesPage: It's a family thing! ??\\n#Tho...</td>\n",
       "      <td>9.565675e+17</td>\n",
       "      <td>2.867101e+09</td>\n",
       "    </tr>\n",
       "  </tbody>\n",
       "</table>\n",
       "</div>"
      ],
      "text/plain": [
       "            Created_At  Followers_Count  Friends_Count  \\\n",
       "0  2018-01-25 16:41:07            802.0          265.0   \n",
       "1  2018-01-25 16:41:05           6365.0         3408.0   \n",
       "2  2018-01-25 16:40:58            144.0          227.0   \n",
       "3  2018-01-25 16:40:56            123.0          175.0   \n",
       "4  2018-01-25 16:40:49            117.0          136.0   \n",
       "\n",
       "                       Location  Retweet_Count      Screen_Name  \\\n",
       "0           genderless. pan-R/S         2710.0      wislwor6651   \n",
       "1  On a rainbow. SHARED ACCOUNT            7.0  ItalianLokiArmy   \n",
       "2             Pennsylvania, USA         2710.0     pokerqueen33   \n",
       "3               ????012??/Anima         2710.0   shirahadegozai   \n",
       "4                           NaN         2710.0        hong88_Ag   \n",
       "\n",
       "                Source  Truncated  \\\n",
       "0   Twitter Web Client        0.0   \n",
       "1  Twitter for Android        0.0   \n",
       "2  Twitter for Android        0.0   \n",
       "3   Twitter for iPhone        0.0   \n",
       "4   Twitter Web Client        0.0   \n",
       "\n",
       "                                               Tweet       TweetId  \\\n",
       "0  RT @HiddlesPage: It's a family thing! ??\\n#Tho...  9.565676e+17   \n",
       "1  RT @HiddlesFanPage_: Happy #Thorsday! #ChrisHe...  9.565676e+17   \n",
       "2  RT @HiddlesPage: It's a family thing! ??\\n#Tho...  9.565676e+17   \n",
       "3  RT @HiddlesPage: It's a family thing! ??\\n#Tho...  9.565676e+17   \n",
       "4  RT @HiddlesPage: It's a family thing! ??\\n#Tho...  9.565675e+17   \n",
       "\n",
       "         UserId  \n",
       "0  2.911662e+09  \n",
       "1  5.872514e+08  \n",
       "2  5.842114e+08  \n",
       "3  1.285254e+08  \n",
       "4  2.867101e+09  "
      ]
     },
     "execution_count": 149,
     "metadata": {},
     "output_type": "execute_result"
    }
   ],
   "source": [
    "df.head()"
   ]
  },
  {
   "cell_type": "code",
   "execution_count": 38,
   "metadata": {},
   "outputs": [
    {
     "name": "stdout",
     "output_type": "stream",
     "text": [
      "<class 'pandas.core.frame.DataFrame'>\n",
      "RangeIndex: 2608 entries, 0 to 2607\n",
      "Data columns (total 17 columns):\n",
      "Contributors       0 non-null float64\n",
      "Coordinates        0 non-null float64\n",
      "Created_At         2608 non-null object\n",
      "Favorited          2608 non-null float64\n",
      "Followers_Count    2608 non-null float64\n",
      "Friends_Count      2608 non-null float64\n",
      "Geo                0 non-null float64\n",
      "Location           1645 non-null object\n",
      "Place              6 non-null object\n",
      "Retweet_Count      2608 non-null float64\n",
      "Retweeted          2608 non-null float64\n",
      "Screen_Name        2608 non-null object\n",
      "Source             2608 non-null object\n",
      "Truncated          2608 non-null float64\n",
      "Tweet              2608 non-null object\n",
      "TweetId            2608 non-null float64\n",
      "UserId             2608 non-null float64\n",
      "dtypes: float64(11), object(6)\n",
      "memory usage: 285.3+ KB\n"
     ]
    }
   ],
   "source": [
    "df.info()"
   ]
  },
  {
   "cell_type": "code",
   "execution_count": 40,
   "metadata": {},
   "outputs": [],
   "source": [
    "df.drop([ 'Contributors', 'Coordinates', 'Geo', 'Place'], inplace=True, axis=1)"
   ]
  },
  {
   "cell_type": "code",
   "execution_count": 42,
   "metadata": {},
   "outputs": [
    {
     "name": "stdout",
     "output_type": "stream",
     "text": [
      "<class 'pandas.core.frame.DataFrame'>\n",
      "RangeIndex: 2608 entries, 0 to 2607\n",
      "Data columns (total 13 columns):\n",
      "Created_At         2608 non-null object\n",
      "Favorited          2608 non-null float64\n",
      "Followers_Count    2608 non-null float64\n",
      "Friends_Count      2608 non-null float64\n",
      "Location           1645 non-null object\n",
      "Retweet_Count      2608 non-null float64\n",
      "Retweeted          2608 non-null float64\n",
      "Screen_Name        2608 non-null object\n",
      "Source             2608 non-null object\n",
      "Truncated          2608 non-null float64\n",
      "Tweet              2608 non-null object\n",
      "TweetId            2608 non-null float64\n",
      "UserId             2608 non-null float64\n",
      "dtypes: float64(8), object(5)\n",
      "memory usage: 214.0+ KB\n"
     ]
    }
   ],
   "source": [
    "df.info()"
   ]
  },
  {
   "cell_type": "code",
   "execution_count": 43,
   "metadata": {},
   "outputs": [
    {
     "data": {
      "text/html": [
       "<div>\n",
       "<style scoped>\n",
       "    .dataframe tbody tr th:only-of-type {\n",
       "        vertical-align: middle;\n",
       "    }\n",
       "\n",
       "    .dataframe tbody tr th {\n",
       "        vertical-align: top;\n",
       "    }\n",
       "\n",
       "    .dataframe thead th {\n",
       "        text-align: right;\n",
       "    }\n",
       "</style>\n",
       "<table border=\"1\" class=\"dataframe\">\n",
       "  <thead>\n",
       "    <tr style=\"text-align: right;\">\n",
       "      <th></th>\n",
       "      <th>Favorited</th>\n",
       "      <th>Followers_Count</th>\n",
       "      <th>Friends_Count</th>\n",
       "      <th>Retweet_Count</th>\n",
       "      <th>Retweeted</th>\n",
       "      <th>Truncated</th>\n",
       "      <th>TweetId</th>\n",
       "      <th>UserId</th>\n",
       "    </tr>\n",
       "  </thead>\n",
       "  <tbody>\n",
       "    <tr>\n",
       "      <th>count</th>\n",
       "      <td>2608.0</td>\n",
       "      <td>2608.000000</td>\n",
       "      <td>2608.000000</td>\n",
       "      <td>2608.000000</td>\n",
       "      <td>2608.0</td>\n",
       "      <td>2608.000000</td>\n",
       "      <td>2.608000e+03</td>\n",
       "      <td>2.608000e+03</td>\n",
       "    </tr>\n",
       "    <tr>\n",
       "      <th>mean</th>\n",
       "      <td>0.0</td>\n",
       "      <td>1105.332055</td>\n",
       "      <td>561.785660</td>\n",
       "      <td>2486.281442</td>\n",
       "      <td>0.0</td>\n",
       "      <td>0.013037</td>\n",
       "      <td>9.564495e+17</td>\n",
       "      <td>2.073452e+17</td>\n",
       "    </tr>\n",
       "    <tr>\n",
       "      <th>std</th>\n",
       "      <td>0.0</td>\n",
       "      <td>13667.431272</td>\n",
       "      <td>1035.081846</td>\n",
       "      <td>1490.192830</td>\n",
       "      <td>0.0</td>\n",
       "      <td>0.113454</td>\n",
       "      <td>7.835232e+13</td>\n",
       "      <td>3.630647e+17</td>\n",
       "    </tr>\n",
       "    <tr>\n",
       "      <th>min</th>\n",
       "      <td>0.0</td>\n",
       "      <td>0.000000</td>\n",
       "      <td>0.000000</td>\n",
       "      <td>0.000000</td>\n",
       "      <td>0.0</td>\n",
       "      <td>0.000000</td>\n",
       "      <td>9.563096e+17</td>\n",
       "      <td>7.722300e+04</td>\n",
       "    </tr>\n",
       "    <tr>\n",
       "      <th>25%</th>\n",
       "      <td>0.0</td>\n",
       "      <td>63.750000</td>\n",
       "      <td>136.000000</td>\n",
       "      <td>2712.000000</td>\n",
       "      <td>0.0</td>\n",
       "      <td>0.000000</td>\n",
       "      <td>9.563783e+17</td>\n",
       "      <td>3.742778e+08</td>\n",
       "    </tr>\n",
       "    <tr>\n",
       "      <th>50%</th>\n",
       "      <td>0.0</td>\n",
       "      <td>198.000000</td>\n",
       "      <td>274.000000</td>\n",
       "      <td>2715.000000</td>\n",
       "      <td>0.0</td>\n",
       "      <td>0.000000</td>\n",
       "      <td>9.564576e+17</td>\n",
       "      <td>2.223627e+09</td>\n",
       "    </tr>\n",
       "    <tr>\n",
       "      <th>75%</th>\n",
       "      <td>0.0</td>\n",
       "      <td>535.500000</td>\n",
       "      <td>542.000000</td>\n",
       "      <td>2719.000000</td>\n",
       "      <td>0.0</td>\n",
       "      <td>0.000000</td>\n",
       "      <td>9.565215e+17</td>\n",
       "      <td>4.895820e+09</td>\n",
       "    </tr>\n",
       "    <tr>\n",
       "      <th>max</th>\n",
       "      <td>0.0</td>\n",
       "      <td>665657.000000</td>\n",
       "      <td>16281.000000</td>\n",
       "      <td>40125.000000</td>\n",
       "      <td>0.0</td>\n",
       "      <td>1.000000</td>\n",
       "      <td>9.565676e+17</td>\n",
       "      <td>9.558442e+17</td>\n",
       "    </tr>\n",
       "  </tbody>\n",
       "</table>\n",
       "</div>"
      ],
      "text/plain": [
       "       Favorited  Followers_Count  Friends_Count  Retweet_Count  Retweeted  \\\n",
       "count     2608.0      2608.000000    2608.000000    2608.000000     2608.0   \n",
       "mean         0.0      1105.332055     561.785660    2486.281442        0.0   \n",
       "std          0.0     13667.431272    1035.081846    1490.192830        0.0   \n",
       "min          0.0         0.000000       0.000000       0.000000        0.0   \n",
       "25%          0.0        63.750000     136.000000    2712.000000        0.0   \n",
       "50%          0.0       198.000000     274.000000    2715.000000        0.0   \n",
       "75%          0.0       535.500000     542.000000    2719.000000        0.0   \n",
       "max          0.0    665657.000000   16281.000000   40125.000000        0.0   \n",
       "\n",
       "         Truncated       TweetId        UserId  \n",
       "count  2608.000000  2.608000e+03  2.608000e+03  \n",
       "mean      0.013037  9.564495e+17  2.073452e+17  \n",
       "std       0.113454  7.835232e+13  3.630647e+17  \n",
       "min       0.000000  9.563096e+17  7.722300e+04  \n",
       "25%       0.000000  9.563783e+17  3.742778e+08  \n",
       "50%       0.000000  9.564576e+17  2.223627e+09  \n",
       "75%       0.000000  9.565215e+17  4.895820e+09  \n",
       "max       1.000000  9.565676e+17  9.558442e+17  "
      ]
     },
     "execution_count": 43,
     "metadata": {},
     "output_type": "execute_result"
    }
   ],
   "source": [
    "df.describe()"
   ]
  },
  {
   "cell_type": "code",
   "execution_count": 44,
   "metadata": {},
   "outputs": [],
   "source": [
    "df.drop([ 'Favorited', 'Retweeted'], inplace=True, axis=1)"
   ]
  },
  {
   "cell_type": "code",
   "execution_count": 45,
   "metadata": {},
   "outputs": [
    {
     "data": {
      "text/html": [
       "<div>\n",
       "<style scoped>\n",
       "    .dataframe tbody tr th:only-of-type {\n",
       "        vertical-align: middle;\n",
       "    }\n",
       "\n",
       "    .dataframe tbody tr th {\n",
       "        vertical-align: top;\n",
       "    }\n",
       "\n",
       "    .dataframe thead th {\n",
       "        text-align: right;\n",
       "    }\n",
       "</style>\n",
       "<table border=\"1\" class=\"dataframe\">\n",
       "  <thead>\n",
       "    <tr style=\"text-align: right;\">\n",
       "      <th></th>\n",
       "      <th>Followers_Count</th>\n",
       "      <th>Friends_Count</th>\n",
       "      <th>Retweet_Count</th>\n",
       "      <th>Truncated</th>\n",
       "      <th>TweetId</th>\n",
       "      <th>UserId</th>\n",
       "    </tr>\n",
       "  </thead>\n",
       "  <tbody>\n",
       "    <tr>\n",
       "      <th>count</th>\n",
       "      <td>2608.000000</td>\n",
       "      <td>2608.000000</td>\n",
       "      <td>2608.000000</td>\n",
       "      <td>2608.000000</td>\n",
       "      <td>2.608000e+03</td>\n",
       "      <td>2.608000e+03</td>\n",
       "    </tr>\n",
       "    <tr>\n",
       "      <th>mean</th>\n",
       "      <td>1105.332055</td>\n",
       "      <td>561.785660</td>\n",
       "      <td>2486.281442</td>\n",
       "      <td>0.013037</td>\n",
       "      <td>9.564495e+17</td>\n",
       "      <td>2.073452e+17</td>\n",
       "    </tr>\n",
       "    <tr>\n",
       "      <th>std</th>\n",
       "      <td>13667.431272</td>\n",
       "      <td>1035.081846</td>\n",
       "      <td>1490.192830</td>\n",
       "      <td>0.113454</td>\n",
       "      <td>7.835232e+13</td>\n",
       "      <td>3.630647e+17</td>\n",
       "    </tr>\n",
       "    <tr>\n",
       "      <th>min</th>\n",
       "      <td>0.000000</td>\n",
       "      <td>0.000000</td>\n",
       "      <td>0.000000</td>\n",
       "      <td>0.000000</td>\n",
       "      <td>9.563096e+17</td>\n",
       "      <td>7.722300e+04</td>\n",
       "    </tr>\n",
       "    <tr>\n",
       "      <th>25%</th>\n",
       "      <td>63.750000</td>\n",
       "      <td>136.000000</td>\n",
       "      <td>2712.000000</td>\n",
       "      <td>0.000000</td>\n",
       "      <td>9.563783e+17</td>\n",
       "      <td>3.742778e+08</td>\n",
       "    </tr>\n",
       "    <tr>\n",
       "      <th>50%</th>\n",
       "      <td>198.000000</td>\n",
       "      <td>274.000000</td>\n",
       "      <td>2715.000000</td>\n",
       "      <td>0.000000</td>\n",
       "      <td>9.564576e+17</td>\n",
       "      <td>2.223627e+09</td>\n",
       "    </tr>\n",
       "    <tr>\n",
       "      <th>75%</th>\n",
       "      <td>535.500000</td>\n",
       "      <td>542.000000</td>\n",
       "      <td>2719.000000</td>\n",
       "      <td>0.000000</td>\n",
       "      <td>9.565215e+17</td>\n",
       "      <td>4.895820e+09</td>\n",
       "    </tr>\n",
       "    <tr>\n",
       "      <th>max</th>\n",
       "      <td>665657.000000</td>\n",
       "      <td>16281.000000</td>\n",
       "      <td>40125.000000</td>\n",
       "      <td>1.000000</td>\n",
       "      <td>9.565676e+17</td>\n",
       "      <td>9.558442e+17</td>\n",
       "    </tr>\n",
       "  </tbody>\n",
       "</table>\n",
       "</div>"
      ],
      "text/plain": [
       "       Followers_Count  Friends_Count  Retweet_Count    Truncated  \\\n",
       "count      2608.000000    2608.000000    2608.000000  2608.000000   \n",
       "mean       1105.332055     561.785660    2486.281442     0.013037   \n",
       "std       13667.431272    1035.081846    1490.192830     0.113454   \n",
       "min           0.000000       0.000000       0.000000     0.000000   \n",
       "25%          63.750000     136.000000    2712.000000     0.000000   \n",
       "50%         198.000000     274.000000    2715.000000     0.000000   \n",
       "75%         535.500000     542.000000    2719.000000     0.000000   \n",
       "max      665657.000000   16281.000000   40125.000000     1.000000   \n",
       "\n",
       "            TweetId        UserId  \n",
       "count  2.608000e+03  2.608000e+03  \n",
       "mean   9.564495e+17  2.073452e+17  \n",
       "std    7.835232e+13  3.630647e+17  \n",
       "min    9.563096e+17  7.722300e+04  \n",
       "25%    9.563783e+17  3.742778e+08  \n",
       "50%    9.564576e+17  2.223627e+09  \n",
       "75%    9.565215e+17  4.895820e+09  \n",
       "max    9.565676e+17  9.558442e+17  "
      ]
     },
     "execution_count": 45,
     "metadata": {},
     "output_type": "execute_result"
    }
   ],
   "source": [
    "df.describe()"
   ]
  },
  {
   "cell_type": "code",
   "execution_count": 151,
   "metadata": {},
   "outputs": [
    {
     "data": {
      "text/html": [
       "<div>\n",
       "<style scoped>\n",
       "    .dataframe tbody tr th:only-of-type {\n",
       "        vertical-align: middle;\n",
       "    }\n",
       "\n",
       "    .dataframe tbody tr th {\n",
       "        vertical-align: top;\n",
       "    }\n",
       "\n",
       "    .dataframe thead th {\n",
       "        text-align: right;\n",
       "    }\n",
       "</style>\n",
       "<table border=\"1\" class=\"dataframe\">\n",
       "  <thead>\n",
       "    <tr style=\"text-align: right;\">\n",
       "      <th></th>\n",
       "      <th>Created_At</th>\n",
       "      <th>Followers_Count</th>\n",
       "      <th>Friends_Count</th>\n",
       "      <th>Location</th>\n",
       "      <th>Retweet_Count</th>\n",
       "      <th>Screen_Name</th>\n",
       "      <th>Source</th>\n",
       "      <th>Truncated</th>\n",
       "      <th>Tweet</th>\n",
       "      <th>TweetId</th>\n",
       "      <th>UserId</th>\n",
       "    </tr>\n",
       "  </thead>\n",
       "  <tbody>\n",
       "    <tr>\n",
       "      <th>0</th>\n",
       "      <td>2018-01-25 16:41:07</td>\n",
       "      <td>802.0</td>\n",
       "      <td>265.0</td>\n",
       "      <td>genderless. pan-R/S</td>\n",
       "      <td>2710.0</td>\n",
       "      <td>wislwor6651</td>\n",
       "      <td>Twitter Web Client</td>\n",
       "      <td>0.0</td>\n",
       "      <td>RT @HiddlesPage: It's a family thing! ??\\n#Tho...</td>\n",
       "      <td>9.565676e+17</td>\n",
       "      <td>2.911662e+09</td>\n",
       "    </tr>\n",
       "    <tr>\n",
       "      <th>1</th>\n",
       "      <td>2018-01-25 16:41:05</td>\n",
       "      <td>6365.0</td>\n",
       "      <td>3408.0</td>\n",
       "      <td>On a rainbow. SHARED ACCOUNT</td>\n",
       "      <td>7.0</td>\n",
       "      <td>ItalianLokiArmy</td>\n",
       "      <td>Twitter for Android</td>\n",
       "      <td>0.0</td>\n",
       "      <td>RT @HiddlesFanPage_: Happy #Thorsday! #ChrisHe...</td>\n",
       "      <td>9.565676e+17</td>\n",
       "      <td>5.872514e+08</td>\n",
       "    </tr>\n",
       "    <tr>\n",
       "      <th>2</th>\n",
       "      <td>2018-01-25 16:40:58</td>\n",
       "      <td>144.0</td>\n",
       "      <td>227.0</td>\n",
       "      <td>Pennsylvania, USA</td>\n",
       "      <td>2710.0</td>\n",
       "      <td>pokerqueen33</td>\n",
       "      <td>Twitter for Android</td>\n",
       "      <td>0.0</td>\n",
       "      <td>RT @HiddlesPage: It's a family thing! ??\\n#Tho...</td>\n",
       "      <td>9.565676e+17</td>\n",
       "      <td>5.842114e+08</td>\n",
       "    </tr>\n",
       "    <tr>\n",
       "      <th>3</th>\n",
       "      <td>2018-01-25 16:40:56</td>\n",
       "      <td>123.0</td>\n",
       "      <td>175.0</td>\n",
       "      <td>????012??/Anima</td>\n",
       "      <td>2710.0</td>\n",
       "      <td>shirahadegozai</td>\n",
       "      <td>Twitter for iPhone</td>\n",
       "      <td>0.0</td>\n",
       "      <td>RT @HiddlesPage: It's a family thing! ??\\n#Tho...</td>\n",
       "      <td>9.565676e+17</td>\n",
       "      <td>1.285254e+08</td>\n",
       "    </tr>\n",
       "    <tr>\n",
       "      <th>4</th>\n",
       "      <td>2018-01-25 16:40:49</td>\n",
       "      <td>117.0</td>\n",
       "      <td>136.0</td>\n",
       "      <td>NaN</td>\n",
       "      <td>2710.0</td>\n",
       "      <td>hong88_Ag</td>\n",
       "      <td>Twitter Web Client</td>\n",
       "      <td>0.0</td>\n",
       "      <td>RT @HiddlesPage: It's a family thing! ??\\n#Tho...</td>\n",
       "      <td>9.565675e+17</td>\n",
       "      <td>2.867101e+09</td>\n",
       "    </tr>\n",
       "  </tbody>\n",
       "</table>\n",
       "</div>"
      ],
      "text/plain": [
       "            Created_At  Followers_Count  Friends_Count  \\\n",
       "0  2018-01-25 16:41:07            802.0          265.0   \n",
       "1  2018-01-25 16:41:05           6365.0         3408.0   \n",
       "2  2018-01-25 16:40:58            144.0          227.0   \n",
       "3  2018-01-25 16:40:56            123.0          175.0   \n",
       "4  2018-01-25 16:40:49            117.0          136.0   \n",
       "\n",
       "                       Location  Retweet_Count      Screen_Name  \\\n",
       "0           genderless. pan-R/S         2710.0      wislwor6651   \n",
       "1  On a rainbow. SHARED ACCOUNT            7.0  ItalianLokiArmy   \n",
       "2             Pennsylvania, USA         2710.0     pokerqueen33   \n",
       "3               ????012??/Anima         2710.0   shirahadegozai   \n",
       "4                           NaN         2710.0        hong88_Ag   \n",
       "\n",
       "                Source  Truncated  \\\n",
       "0   Twitter Web Client        0.0   \n",
       "1  Twitter for Android        0.0   \n",
       "2  Twitter for Android        0.0   \n",
       "3   Twitter for iPhone        0.0   \n",
       "4   Twitter Web Client        0.0   \n",
       "\n",
       "                                               Tweet       TweetId  \\\n",
       "0  RT @HiddlesPage: It's a family thing! ??\\n#Tho...  9.565676e+17   \n",
       "1  RT @HiddlesFanPage_: Happy #Thorsday! #ChrisHe...  9.565676e+17   \n",
       "2  RT @HiddlesPage: It's a family thing! ??\\n#Tho...  9.565676e+17   \n",
       "3  RT @HiddlesPage: It's a family thing! ??\\n#Tho...  9.565676e+17   \n",
       "4  RT @HiddlesPage: It's a family thing! ??\\n#Tho...  9.565675e+17   \n",
       "\n",
       "         UserId  \n",
       "0  2.911662e+09  \n",
       "1  5.872514e+08  \n",
       "2  5.842114e+08  \n",
       "3  1.285254e+08  \n",
       "4  2.867101e+09  "
      ]
     },
     "execution_count": 151,
     "metadata": {},
     "output_type": "execute_result"
    }
   ],
   "source": [
    "df.head()"
   ]
  },
  {
   "cell_type": "code",
   "execution_count": 97,
   "metadata": {},
   "outputs": [
    {
     "data": {
      "text/plain": [
       "226"
      ]
     },
     "execution_count": 97,
     "metadata": {},
     "output_type": "execute_result"
    }
   ],
   "source": [
    "df['Tweet'].nunique()"
   ]
  },
  {
   "cell_type": "code",
   "execution_count": 116,
   "metadata": {},
   "outputs": [],
   "source": [
    "tweets = df['Tweet']"
   ]
  },
  {
   "cell_type": "code",
   "execution_count": 143,
   "metadata": {},
   "outputs": [
    {
     "data": {
      "text/plain": [
       "0    RT @HiddlesPage: It's a family thing! ??\\n#Tho...\n",
       "1    RT @HiddlesFanPage_: Happy #Thorsday! #ChrisHe...\n",
       "2    RT @HiddlesPage: It's a family thing! ??\\n#Tho...\n",
       "3    RT @HiddlesPage: It's a family thing! ??\\n#Tho...\n",
       "4    RT @HiddlesPage: It's a family thing! ??\\n#Tho...\n",
       "Name: Tweet, dtype: object"
      ]
     },
     "execution_count": 143,
     "metadata": {},
     "output_type": "execute_result"
    }
   ],
   "source": [
    "tweets.head()"
   ]
  },
  {
   "cell_type": "code",
   "execution_count": 146,
   "metadata": {},
   "outputs": [
    {
     "data": {
      "text/plain": [
       "226"
      ]
     },
     "execution_count": 146,
     "metadata": {},
     "output_type": "execute_result"
    }
   ],
   "source": [
    "tweets.nunique()"
   ]
  },
  {
   "cell_type": "code",
   "execution_count": 153,
   "metadata": {},
   "outputs": [
    {
     "data": {
      "text/plain": [
       "0    RT @HiddlesPage: It's a family thing! ??\\n#Tho...\n",
       "1    RT @HiddlesFanPage_: Happy #Thorsday! #ChrisHe...\n",
       "2    RT @HiddlesPage: It's a family thing! ??\\n#Tho...\n",
       "3    RT @HiddlesPage: It's a family thing! ??\\n#Tho...\n",
       "4    RT @HiddlesPage: It's a family thing! ??\\n#Tho...\n",
       "Name: Tweet, dtype: object"
      ]
     },
     "execution_count": 153,
     "metadata": {},
     "output_type": "execute_result"
    }
   ],
   "source": [
    "tweets[:5]"
   ]
  },
  {
   "cell_type": "code",
   "execution_count": 155,
   "metadata": {},
   "outputs": [],
   "source": [
    "df['pre_clean_len'] = [len(t) for t in df.Tweet]"
   ]
  },
  {
   "cell_type": "code",
   "execution_count": 157,
   "metadata": {},
   "outputs": [
    {
     "data": {
      "text/html": [
       "<div>\n",
       "<style scoped>\n",
       "    .dataframe tbody tr th:only-of-type {\n",
       "        vertical-align: middle;\n",
       "    }\n",
       "\n",
       "    .dataframe tbody tr th {\n",
       "        vertical-align: top;\n",
       "    }\n",
       "\n",
       "    .dataframe thead th {\n",
       "        text-align: right;\n",
       "    }\n",
       "</style>\n",
       "<table border=\"1\" class=\"dataframe\">\n",
       "  <thead>\n",
       "    <tr style=\"text-align: right;\">\n",
       "      <th></th>\n",
       "      <th>Created_At</th>\n",
       "      <th>Followers_Count</th>\n",
       "      <th>Friends_Count</th>\n",
       "      <th>Location</th>\n",
       "      <th>Retweet_Count</th>\n",
       "      <th>Screen_Name</th>\n",
       "      <th>Source</th>\n",
       "      <th>Truncated</th>\n",
       "      <th>Tweet</th>\n",
       "      <th>TweetId</th>\n",
       "      <th>UserId</th>\n",
       "      <th>pre_clean_len</th>\n",
       "    </tr>\n",
       "  </thead>\n",
       "  <tbody>\n",
       "    <tr>\n",
       "      <th>0</th>\n",
       "      <td>2018-01-25 16:41:07</td>\n",
       "      <td>802.0</td>\n",
       "      <td>265.0</td>\n",
       "      <td>genderless. pan-R/S</td>\n",
       "      <td>2710.0</td>\n",
       "      <td>wislwor6651</td>\n",
       "      <td>Twitter Web Client</td>\n",
       "      <td>0.0</td>\n",
       "      <td>RT @HiddlesPage: It's a family thing! ??\\n#Tho...</td>\n",
       "      <td>9.565676e+17</td>\n",
       "      <td>2.911662e+09</td>\n",
       "      <td>88</td>\n",
       "    </tr>\n",
       "    <tr>\n",
       "      <th>1</th>\n",
       "      <td>2018-01-25 16:41:05</td>\n",
       "      <td>6365.0</td>\n",
       "      <td>3408.0</td>\n",
       "      <td>On a rainbow. SHARED ACCOUNT</td>\n",
       "      <td>7.0</td>\n",
       "      <td>ItalianLokiArmy</td>\n",
       "      <td>Twitter for Android</td>\n",
       "      <td>0.0</td>\n",
       "      <td>RT @HiddlesFanPage_: Happy #Thorsday! #ChrisHe...</td>\n",
       "      <td>9.565676e+17</td>\n",
       "      <td>5.872514e+08</td>\n",
       "      <td>118</td>\n",
       "    </tr>\n",
       "    <tr>\n",
       "      <th>2</th>\n",
       "      <td>2018-01-25 16:40:58</td>\n",
       "      <td>144.0</td>\n",
       "      <td>227.0</td>\n",
       "      <td>Pennsylvania, USA</td>\n",
       "      <td>2710.0</td>\n",
       "      <td>pokerqueen33</td>\n",
       "      <td>Twitter for Android</td>\n",
       "      <td>0.0</td>\n",
       "      <td>RT @HiddlesPage: It's a family thing! ??\\n#Tho...</td>\n",
       "      <td>9.565676e+17</td>\n",
       "      <td>5.842114e+08</td>\n",
       "      <td>88</td>\n",
       "    </tr>\n",
       "    <tr>\n",
       "      <th>3</th>\n",
       "      <td>2018-01-25 16:40:56</td>\n",
       "      <td>123.0</td>\n",
       "      <td>175.0</td>\n",
       "      <td>????012??/Anima</td>\n",
       "      <td>2710.0</td>\n",
       "      <td>shirahadegozai</td>\n",
       "      <td>Twitter for iPhone</td>\n",
       "      <td>0.0</td>\n",
       "      <td>RT @HiddlesPage: It's a family thing! ??\\n#Tho...</td>\n",
       "      <td>9.565676e+17</td>\n",
       "      <td>1.285254e+08</td>\n",
       "      <td>88</td>\n",
       "    </tr>\n",
       "    <tr>\n",
       "      <th>4</th>\n",
       "      <td>2018-01-25 16:40:49</td>\n",
       "      <td>117.0</td>\n",
       "      <td>136.0</td>\n",
       "      <td>NaN</td>\n",
       "      <td>2710.0</td>\n",
       "      <td>hong88_Ag</td>\n",
       "      <td>Twitter Web Client</td>\n",
       "      <td>0.0</td>\n",
       "      <td>RT @HiddlesPage: It's a family thing! ??\\n#Tho...</td>\n",
       "      <td>9.565675e+17</td>\n",
       "      <td>2.867101e+09</td>\n",
       "      <td>88</td>\n",
       "    </tr>\n",
       "  </tbody>\n",
       "</table>\n",
       "</div>"
      ],
      "text/plain": [
       "            Created_At  Followers_Count  Friends_Count  \\\n",
       "0  2018-01-25 16:41:07            802.0          265.0   \n",
       "1  2018-01-25 16:41:05           6365.0         3408.0   \n",
       "2  2018-01-25 16:40:58            144.0          227.0   \n",
       "3  2018-01-25 16:40:56            123.0          175.0   \n",
       "4  2018-01-25 16:40:49            117.0          136.0   \n",
       "\n",
       "                       Location  Retweet_Count      Screen_Name  \\\n",
       "0           genderless. pan-R/S         2710.0      wislwor6651   \n",
       "1  On a rainbow. SHARED ACCOUNT            7.0  ItalianLokiArmy   \n",
       "2             Pennsylvania, USA         2710.0     pokerqueen33   \n",
       "3               ????012??/Anima         2710.0   shirahadegozai   \n",
       "4                           NaN         2710.0        hong88_Ag   \n",
       "\n",
       "                Source  Truncated  \\\n",
       "0   Twitter Web Client        0.0   \n",
       "1  Twitter for Android        0.0   \n",
       "2  Twitter for Android        0.0   \n",
       "3   Twitter for iPhone        0.0   \n",
       "4   Twitter Web Client        0.0   \n",
       "\n",
       "                                               Tweet       TweetId  \\\n",
       "0  RT @HiddlesPage: It's a family thing! ??\\n#Tho...  9.565676e+17   \n",
       "1  RT @HiddlesFanPage_: Happy #Thorsday! #ChrisHe...  9.565676e+17   \n",
       "2  RT @HiddlesPage: It's a family thing! ??\\n#Tho...  9.565676e+17   \n",
       "3  RT @HiddlesPage: It's a family thing! ??\\n#Tho...  9.565676e+17   \n",
       "4  RT @HiddlesPage: It's a family thing! ??\\n#Tho...  9.565675e+17   \n",
       "\n",
       "         UserId  pre_clean_len  \n",
       "0  2.911662e+09             88  \n",
       "1  5.872514e+08            118  \n",
       "2  5.842114e+08             88  \n",
       "3  1.285254e+08             88  \n",
       "4  2.867101e+09             88  "
      ]
     },
     "execution_count": 157,
     "metadata": {},
     "output_type": "execute_result"
    }
   ],
   "source": [
    "df.head()"
   ]
  },
  {
   "cell_type": "code",
   "execution_count": 159,
   "metadata": {},
   "outputs": [],
   "source": [
    "tw = df[['Tweet', 'Retweet_Count', 'pre_clean_len' ]]"
   ]
  },
  {
   "cell_type": "code",
   "execution_count": 186,
   "metadata": {},
   "outputs": [
    {
     "data": {
      "text/plain": [
       "0    RT @HiddlesPage: It's a family thing! ??\\n#Tho...\n",
       "1    RT @HiddlesFanPage_: Happy #Thorsday! #ChrisHe...\n",
       "2    RT @HiddlesPage: It's a family thing! ??\\n#Tho...\n",
       "3    RT @HiddlesPage: It's a family thing! ??\\n#Tho...\n",
       "4    RT @HiddlesPage: It's a family thing! ??\\n#Tho...\n",
       "Name: Tweet, dtype: object"
      ]
     },
     "execution_count": 186,
     "metadata": {},
     "output_type": "execute_result"
    }
   ],
   "source": [
    "tw['Tweet'].head()"
   ]
  },
  {
   "cell_type": "code",
   "execution_count": 230,
   "metadata": {},
   "outputs": [],
   "source": [
    "import nltk\n",
    "from nltk.corpus import stopwords\n",
    "import re"
   ]
  },
  {
   "cell_type": "code",
   "execution_count": 233,
   "metadata": {},
   "outputs": [],
   "source": [
    "at = r'@[A-Za-z0-9]+'\n",
    "link = r'https?://[A-Za-z0-9./]+'\n",
    "combined = r'|'.join((at, link))\n",
    "\n",
    "def text_proces(mess):\n",
    "    '''\n",
    "    1. remove punctuation\n",
    "    2. remove stop words\n",
    "    3. return list of clean text words in lower case\n",
    "    '''\n",
    "    txt = re.sub(combined, '', mess)\n",
    "    nopunc = [char for char in txt if char not in string.punctuation]\n",
    "    \n",
    "    nopunc = ''.join(nopunc)\n",
    "    \n",
    "    return [word.lower() for word in nopunc.split() if word.lower() not in stopwords.words('english')]"
   ]
  },
  {
   "cell_type": "code",
   "execution_count": 234,
   "metadata": {},
   "outputs": [],
   "source": [
    "text = tw['Tweet'].apply(text_proces)"
   ]
  },
  {
   "cell_type": "code",
   "execution_count": 241,
   "metadata": {},
   "outputs": [],
   "source": [
    "clean_df = pd.DataFrame(text)"
   ]
  },
  {
   "cell_type": "markdown",
   "metadata": {},
   "source": [
    "### How the cleaned data looks "
   ]
  },
  {
   "cell_type": "code",
   "execution_count": 242,
   "metadata": {},
   "outputs": [
    {
     "data": {
      "text/plain": [
       "['rt', 'family', 'thing', 'thorragnarok', 'thorsday']"
      ]
     },
     "execution_count": 242,
     "metadata": {},
     "output_type": "execute_result"
    }
   ],
   "source": [
    "clean_df['Tweet'][0]"
   ]
  },
  {
   "cell_type": "markdown",
   "metadata": {},
   "source": [
    "### And how the data used to look"
   ]
  },
  {
   "cell_type": "code",
   "execution_count": 240,
   "metadata": {},
   "outputs": [
    {
     "data": {
      "text/plain": [
       "\"RT @HiddlesPage: It's a family thing! ??\\n#ThorRagnarok #Thorsday https://t.co/7MuTKdS3VD\""
      ]
     },
     "execution_count": 240,
     "metadata": {},
     "output_type": "execute_result"
    }
   ],
   "source": [
    "tw['Tweet'][0]"
   ]
  },
  {
   "cell_type": "code",
   "execution_count": null,
   "metadata": {},
   "outputs": [],
   "source": []
  }
 ],
 "metadata": {
  "kernelspec": {
   "display_name": "Python 3",
   "language": "python",
   "name": "python3"
  },
  "language_info": {
   "codemirror_mode": {
    "name": "ipython",
    "version": 3
   },
   "file_extension": ".py",
   "mimetype": "text/x-python",
   "name": "python",
   "nbconvert_exporter": "python",
   "pygments_lexer": "ipython3",
   "version": "3.6.3"
  }
 },
 "nbformat": 4,
 "nbformat_minor": 2
}
