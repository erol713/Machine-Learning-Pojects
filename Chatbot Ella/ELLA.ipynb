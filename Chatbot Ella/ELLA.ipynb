{
 "cells": [
  {
   "cell_type": "code",
   "execution_count": 1,
   "metadata": {},
   "outputs": [],
   "source": [
    "import numpy as np\n",
    "import pandas as pd\n",
    "import matplotlib.pyplot as plt\n",
    "import seaborn as sns\n",
    "import nltk\n",
    "import string\n",
    "%matplotlib inline"
   ]
  },
  {
   "cell_type": "code",
   "execution_count": 2,
   "metadata": {},
   "outputs": [],
   "source": [
    "our_tekst = open('chatbot.txt', 'r', errors='ignore')"
   ]
  },
  {
   "cell_type": "code",
   "execution_count": 3,
   "metadata": {},
   "outputs": [],
   "source": [
    "raw_text = our_tekst.read()"
   ]
  },
  {
   "cell_type": "code",
   "execution_count": 4,
   "metadata": {},
   "outputs": [],
   "source": [
    "raw_text = raw_text.lower()"
   ]
  },
  {
   "cell_type": "code",
   "execution_count": 5,
   "metadata": {},
   "outputs": [
    {
     "name": "stderr",
     "output_type": "stream",
     "text": [
      "[nltk_data] Downloading package punkt to\n",
      "[nltk_data]     C:\\Users\\HP\\AppData\\Roaming\\nltk_data...\n",
      "[nltk_data]   Package punkt is already up-to-date!\n",
      "[nltk_data] Downloading package wordnet to\n",
      "[nltk_data]     C:\\Users\\HP\\AppData\\Roaming\\nltk_data...\n",
      "[nltk_data]   Package wordnet is already up-to-date!\n"
     ]
    },
    {
     "data": {
      "text/plain": [
       "True"
      ]
     },
     "execution_count": 5,
     "metadata": {},
     "output_type": "execute_result"
    }
   ],
   "source": [
    "nltk.download('punkt')\n",
    "nltk.download('wordnet')"
   ]
  },
  {
   "cell_type": "code",
   "execution_count": 6,
   "metadata": {},
   "outputs": [],
   "source": [
    "sentences = nltk.sent_tokenize(raw_text)\n",
    "words = nltk.word_tokenize(raw_text)"
   ]
  },
  {
   "cell_type": "code",
   "execution_count": 7,
   "metadata": {},
   "outputs": [
    {
     "data": {
      "text/plain": [
       "['ď»żthe wars of the roses were a series of english civil wars for control of the throne of england fought between supporters of two rival branches of the royal house of plantagenet: the house of lancaster, associated with a red rose, and the house of york, whose symbol was a white rose.',\n",
       " 'eventually, the wars eliminated the male lines of both families.']"
      ]
     },
     "execution_count": 7,
     "metadata": {},
     "output_type": "execute_result"
    }
   ],
   "source": [
    "sentences[:2]"
   ]
  },
  {
   "cell_type": "code",
   "execution_count": 8,
   "metadata": {},
   "outputs": [
    {
     "data": {
      "text/plain": [
       "['ď', '»', 'żthe', 'wars']"
      ]
     },
     "execution_count": 8,
     "metadata": {},
     "output_type": "execute_result"
    }
   ],
   "source": [
    "words[:4]"
   ]
  },
  {
   "cell_type": "code",
   "execution_count": 9,
   "metadata": {},
   "outputs": [],
   "source": [
    "lemmer = nltk.stem.WordNetLemmatizer()"
   ]
  },
  {
   "cell_type": "code",
   "execution_count": 10,
   "metadata": {},
   "outputs": [],
   "source": [
    "def Lemmatization(tokens):\n",
    "    return [lemmer.lemmatize(token) for token in tokens]"
   ]
  },
  {
   "cell_type": "code",
   "execution_count": 11,
   "metadata": {},
   "outputs": [],
   "source": [
    "remove_punct_dict = dict((ord(punct), None) for punct in string.punctuation)\n",
    "\n",
    "def LemNormalize(text):\n",
    "    return Lemmatization(nltk.word_tokenize(text.lower().translate(remove_punct_dict)))"
   ]
  },
  {
   "cell_type": "code",
   "execution_count": 12,
   "metadata": {},
   "outputs": [],
   "source": [
    "POSSIBLE_GREETINGS = ('hello', 'hi', 'greetings', \"what's up\", 'hey', 'ciao' )\n",
    "GREETINGS_RESPONSE = ('hi', 'hey', 'hi there', 'hello', 'ciao')"
   ]
  },
  {
   "cell_type": "code",
   "execution_count": 13,
   "metadata": {},
   "outputs": [],
   "source": [
    "def Greeting(sentence):\n",
    "    for word in sentence.split():\n",
    "        if word.lower() in POSSIBLE_GREETINGS:\n",
    "            return np.random.choice(GREETINGS_RESPONSE)\n",
    "    "
   ]
  },
  {
   "cell_type": "code",
   "execution_count": 14,
   "metadata": {},
   "outputs": [],
   "source": [
    "from sklearn.feature_extraction.text import TfidfVectorizer\n",
    "from sklearn.metrics.pairwise import cosine_similarity"
   ]
  },
  {
   "cell_type": "code",
   "execution_count": 15,
   "metadata": {},
   "outputs": [],
   "source": [
    "def Response(user_question):\n",
    "    bot_response = ''\n",
    "    \n",
    "    tfidfVec = TfidfVectorizer(tokenizer=LemNormalize, stop_words='english')\n",
    "    tfidf = tfidfVec.fit_transform(sentences)\n",
    "    vals = cosine_similarity(tfidf[-1], tfidf)\n",
    "    idx = vals.argsort()[0][-2]\n",
    "    flat = vals.flatten()\n",
    "    flat.sort()\n",
    "    reg_tfidf = flat[-2]\n",
    "    \n",
    "    if(reg_tfidf == 0):\n",
    "        bot_response = bot_response + 'I am sorry, I dont understand you'\n",
    "        return bot_response\n",
    "    else:\n",
    "        bot_response = bot_response + sentences[idx]\n",
    "        return bot_response"
   ]
  },
  {
   "cell_type": "code",
   "execution_count": 17,
   "metadata": {},
   "outputs": [
    {
     "name": "stdout",
     "output_type": "stream",
     "text": [
      "ELLA: My name is ELLA. I will answer your questions about The War of The ROses. If you wish to exit, type Bye. \n",
      "\n",
      "\n",
      "hello\n",
      "ELLA: ciao\n",
      "\n",
      "\n",
      "who is Edward IV\n",
      "ELLA: \n",
      "york's eldest son, edward, earl of march, was proclaimed king edward iv.\n",
      "\n",
      "\n",
      "who is York\n",
      "ELLA: \n",
      "in the absence of a direct heir, there were two rival branches with claims to the throne should henry die without issue, being the beaufort family, led by edmund beaufort, 2nd duke of somerset, and the house of york, headed by richard of york, 3rd duke of york.\n",
      "\n",
      "\n",
      "who won the war of the roses\n",
      "ELLA: \n",
      "the white rose of the house of york\n",
      "\n",
      "the red rose of the house of lancaster\n",
      "the name \"wars of the roses\" refers to the heraldic badges associated with two rival branches of the same royal house, the white rose of york and the red rose of lancaster.\n",
      "\n",
      "\n",
      "bye\n",
      "ELLA: Bye! Take care..\n"
     ]
    }
   ],
   "source": [
    "flag = True\n",
    "\n",
    "print('ELLA: My name is ELLA. I will answer your questions about The War of The ROses. If you wish to exit, type Bye. ')\n",
    "\n",
    "while(flag):\n",
    "    print('\\n')\n",
    "    user_question = input()\n",
    "    user_question = user_question.lower()\n",
    "    \n",
    "    if(user_question != 'bye'):\n",
    "        if(user_question == 'thanks' or user_question=='thank you'):\n",
    "            flag = False\n",
    "            print('ELLA: You are welcome..')\n",
    "        else:\n",
    "            if(Greeting(user_question) != None):\n",
    "                print('ELLA: ' + Greeting(user_question))\n",
    "            else:\n",
    "                sentences.append(user_question)\n",
    "                words = words + nltk.word_tokenize(user_question)\n",
    "                final_words = list(set(words))\n",
    "                \n",
    "                print('ELLA: ', end = '\\n')\n",
    "                print(Response(user_question))\n",
    "                sentences.remove(user_question)\n",
    "    else:\n",
    "        flag = False\n",
    "        print('ELLA: Bye! Take care..')"
   ]
  },
  {
   "cell_type": "code",
   "execution_count": null,
   "metadata": {},
   "outputs": [],
   "source": []
  }
 ],
 "metadata": {
  "kernelspec": {
   "display_name": "Python 3",
   "language": "python",
   "name": "python3"
  },
  "language_info": {
   "codemirror_mode": {
    "name": "ipython",
    "version": 3
   },
   "file_extension": ".py",
   "mimetype": "text/x-python",
   "name": "python",
   "nbconvert_exporter": "python",
   "pygments_lexer": "ipython3",
   "version": "3.6.5"
  }
 },
 "nbformat": 4,
 "nbformat_minor": 2
}
